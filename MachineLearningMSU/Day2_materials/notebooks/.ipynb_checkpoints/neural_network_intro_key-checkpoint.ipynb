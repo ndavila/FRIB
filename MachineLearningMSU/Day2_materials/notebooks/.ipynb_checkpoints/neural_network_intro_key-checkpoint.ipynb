{
 "cells": [
  {
   "cell_type": "markdown",
   "metadata": {},
   "source": [
    "# Applying Fully Connected Neural Networks\n",
    "\n",
    "In this activity you will learn how to apply dense neural networks in Keras. \n",
    "\n",
    "The dataset that will be studied is a collection of simulated particle events from Pythia. Specifically, you will construct a dense neural network which will learn how to calculate the invariant mass of a particle from its energy and momentum.\n",
    "\n",
    "First, import numpy, tensorflow, and pylab and load the data.\n"
   ]
  },
  {
   "cell_type": "code",
   "execution_count": 1,
   "metadata": {},
   "outputs": [],
   "source": [
    "import numpy as np\n",
    "import tensorflow as tf\n",
    "import pylab as plt\n",
    "\n",
    "# Prevent TensorFlow from showing us deprecation warnings\n",
    "tf.logging.set_verbosity(tf.logging.ERROR)\n",
    "\n",
    "# MPK comp hack. You should not need this.\n",
    "import os\n",
    "os.environ['KMP_DUPLICATE_LIB_OK']='True'"
   ]
  },
  {
   "cell_type": "code",
   "execution_count": 2,
   "metadata": {},
   "outputs": [
    {
     "name": "stdout",
     "output_type": "stream",
     "text": [
      "(35916, 80)\n",
      "[[-0.492933  -0.469448  -2.22871   ... -1.76367    2.01211    1.       ]\n",
      " [-0.0211283  0.513518   0.0569839 ... -0.542793   1.1322     1.       ]\n",
      " [-0.238883   0.0107631 -1.43853   ... -3.65355    3.77525    1.       ]\n",
      " ...\n",
      " [-0.494778  -0.19824    1.59491   ... -3.39528    3.60725    1.       ]\n",
      " [-0.550329   0.533369   0.111079  ... -0.179829   1.05863    1.       ]\n",
      " [-0.444629   0.980696   0.676546  ... -2.62229    2.8243     1.       ]]\n"
     ]
    }
   ],
   "source": [
    "# import data\n",
    "data = np.load(\"../data/homogenous-16-particle-events-energy.npy\")\n",
    "print(data.shape)\n",
    "print(data)"
   ]
  },
  {
   "cell_type": "markdown",
   "metadata": {},
   "source": [
    "The datset is a 2D array where each row represents one event of data from an electron-proton collision. This dataset is comprised ONLY of events where there were exactly 16 particles produced from an electron-proton collision. Each particle has an x-momentum,  y-momentum, z-momentum, energy, and charge: $(p_x,p_y,p_z,E,q)$. Each event is therefore represented by 80 numbers. Using numpy's reshape method we can make each row represent one particle.  "
   ]
  },
  {
   "cell_type": "code",
   "execution_count": 3,
   "metadata": {},
   "outputs": [
    {
     "name": "stdout",
     "output_type": "stream",
     "text": [
      "(35916, 16, 5)\n",
      "(574656, 5)\n"
     ]
    }
   ],
   "source": [
    "data = np.reshape(data,(len(data),16,5))\n",
    "print(data.shape)\n",
    "data = np.reshape(data, (len(data)*16,5))\n",
    "print(data.shape)"
   ]
  },
  {
   "cell_type": "markdown",
   "metadata": {},
   "source": [
    "These are our training data inputs, but we also must provide the targets, which are the invariant masses of each particle. This is a straightforward computation that does not require neural networks, but provides an easy-to-understand problem.\n",
    "\n",
    "We choose units where $c = 1$:\n",
    "$$m^2=E^2-||\\textbf{p}||^2$$\n",
    "where $m, E$, and $\\textbf{p}$ are all in GeV."
   ]
  },
  {
   "cell_type": "code",
   "execution_count": 4,
   "metadata": {},
   "outputs": [
    {
     "name": "stdout",
     "output_type": "stream",
     "text": [
      "[0.13953852 0.13957194 0.13949486 ... 0.1395683  0.13957045 0.93825666]\n"
     ]
    }
   ],
   "source": [
    "p2 = data[:,0]**2 + data[:,1]**2 + data[:,2]**2\n",
    "target = np.sqrt(np.maximum(data[:,3]**2 - p2,0))\n",
    "print(target)"
   ]
  },
  {
   "cell_type": "markdown",
   "metadata": {},
   "source": [
    "There are several hundred thousand datapoints in this dataset which is overkill for this simple example. Create a test dataset with just 1000 examples."
   ]
  },
  {
   "cell_type": "code",
   "execution_count": 5,
   "metadata": {},
   "outputs": [],
   "source": [
    "smallTarget=target[:1000]\n",
    "smallEnergy=data[:1000]"
   ]
  },
  {
   "cell_type": "markdown",
   "metadata": {},
   "source": [
    "Next, make a histogram of the target data to make sure that we are seeing masses of real particles. As this data has limited precision, this will not resolve electrons very well, but protons, pions, and massless particles should be clearly visible."
   ]
  },
  {
   "cell_type": "code",
   "execution_count": 6,
   "metadata": {},
   "outputs": [
    {
     "data": {
      "image/png": "[encoded data removed]",
      "text/plain": [
       "<Figure size 432x288 with 1 Axes>"
      ]
     },
     "metadata": {
      "needs_background": "light"
     },
     "output_type": "display_data"
    }
   ],
   "source": [
    "plt.hist(target,bins=100)\n",
    "plt.show()"
   ]
  },
  {
   "cell_type": "markdown",
   "metadata": {},
   "source": [
    "Now we can build and train the first neural network. Start with a simple one hidden layer network with 5 neurons, and ReLU activation. Train for 30 epochs with a batch size of 256, an Adam optimizer with a learning rate of 0.1, using mean squared error loss. \n",
    "\n",
    "Additionally, use a validation split of 0.8 when fitting to check for overtraining. Information on how to implement these features can be found here:\n",
    "<https://www.tensorflow.org/api_docs/python/tf/keras>.\n",
    "Check out Sequential underneath models and Dense under layers.\n"
   ]
  },
  {
   "cell_type": "code",
   "execution_count": 7,
   "metadata": {},
   "outputs": [
    {
     "name": "stdout",
     "output_type": "stream",
     "text": [
      "Train on 199 samples, validate on 801 samples\n",
      "Epoch 1/30\n",
      "199/199 [==============================] - 0s 2ms/sample - loss: 25.4213 - val_loss: 5.7641\n",
      "Epoch 2/30\n",
      "199/199 [==============================] - 0s 61us/sample - loss: 9.7152 - val_loss: 1.7726\n",
      "Epoch 3/30\n",
      "199/199 [==============================] - 0s 60us/sample - loss: 2.9713 - val_loss: 1.5070\n",
      "Epoch 4/30\n",
      "199/199 [==============================] - 0s 60us/sample - loss: 1.1646 - val_loss: 2.0347\n",
      "Epoch 5/30\n",
      "199/199 [==============================] - 0s 44us/sample - loss: 1.5496 - val_loss: 1.9540\n",
      "Epoch 6/30\n",
      "199/199 [==============================] - 0s 43us/sample - loss: 1.9257 - val_loss: 1.3990\n",
      "Epoch 7/30\n",
      "199/199 [==============================] - 0s 55us/sample - loss: 1.6588 - val_loss: 0.7936\n",
      "Epoch 8/30\n",
      "199/199 [==============================] - 0s 60us/sample - loss: 1.0688 - val_loss: 0.3902\n",
      "Epoch 9/30\n",
      "199/199 [==============================] - 0s 47us/sample - loss: 0.5850 - val_loss: 0.2192\n",
      "Epoch 10/30\n",
      "199/199 [==============================] - 0s 54us/sample - loss: 0.3044 - val_loss: 0.2057\n",
      "Epoch 11/30\n",
      "199/199 [==============================] - 0s 50us/sample - loss: 0.2055 - val_loss: 0.2636\n",
      "Epoch 12/30\n",
      "199/199 [==============================] - 0s 59us/sample - loss: 0.2187 - val_loss: 0.3306\n",
      "Epoch 13/30\n",
      "199/199 [==============================] - 0s 47us/sample - loss: 0.2653 - val_loss: 0.3718\n",
      "Epoch 14/30\n",
      "199/199 [==============================] - 0s 64us/sample - loss: 0.2942 - val_loss: 0.3782\n",
      "Epoch 15/30\n",
      "199/199 [==============================] - 0s 29us/sample - loss: 0.2905 - val_loss: 0.3477\n",
      "Epoch 16/30\n",
      "199/199 [==============================] - 0s 44us/sample - loss: 0.2651 - val_loss: 0.2937\n",
      "Epoch 17/30\n",
      "199/199 [==============================] - 0s 72us/sample - loss: 0.2247 - val_loss: 0.2317\n",
      "Epoch 18/30\n",
      "199/199 [==============================] - 0s 41us/sample - loss: 0.1786 - val_loss: 0.1741\n",
      "Epoch 19/30\n",
      "199/199 [==============================] - 0s 55us/sample - loss: 0.1372 - val_loss: 0.1296\n",
      "Epoch 20/30\n",
      "199/199 [==============================] - 0s 40us/sample - loss: 0.1065 - val_loss: 0.1015\n",
      "Epoch 21/30\n",
      "199/199 [==============================] - 0s 52us/sample - loss: 0.0878 - val_loss: 0.0874\n",
      "Epoch 22/30\n",
      "199/199 [==============================] - 0s 35us/sample - loss: 0.0787 - val_loss: 0.0838\n",
      "Epoch 23/30\n",
      "199/199 [==============================] - 0s 41us/sample - loss: 0.0762 - val_loss: 0.0869\n",
      "Epoch 24/30\n",
      "199/199 [==============================] - 0s 43us/sample - loss: 0.0781 - val_loss: 0.0924\n",
      "Epoch 25/30\n",
      "199/199 [==============================] - 0s 35us/sample - loss: 0.0827 - val_loss: 0.0963\n",
      "Epoch 26/30\n",
      "199/199 [==============================] - 0s 42us/sample - loss: 0.0872 - val_loss: 0.0996\n",
      "Epoch 27/30\n",
      "199/199 [==============================] - 0s 23us/sample - loss: 0.0907 - val_loss: 0.1006\n",
      "Epoch 28/30\n",
      "199/199 [==============================] - 0s 56us/sample - loss: 0.0924 - val_loss: 0.0991\n",
      "Epoch 29/30\n",
      "199/199 [==============================] - 0s 26us/sample - loss: 0.0919 - val_loss: 0.0956\n",
      "Epoch 30/30\n",
      "199/199 [==============================] - 0s 39us/sample - loss: 0.0897 - val_loss: 0.0911\n"
     ]
    }
   ],
   "source": [
    "model=tf.keras.Sequential() #Define the model object\n",
    "model.add(tf.keras.layers.Dense(5,input_shape=(5,),activation=\"relu\")) #Add the hidden layer\n",
    "model.add(tf.keras.layers.Dense(1,input_shape=(5,))) #Add the output layer\n",
    "model.compile(tf.keras.optimizers.Adam(lr=0.1),loss=tf.keras.losses.MeanSquaredError()) #Adam optimizer and mean squared error loss\n",
    "results = model.fit(smallEnergy,smallTarget,epochs=30, batch_size=256, validation_split=0.8)"
   ]
  },
  {
   "cell_type": "code",
   "execution_count": 8,
   "metadata": {},
   "outputs": [
    {
     "name": "stdout",
     "output_type": "stream",
     "text": [
      "[0.00000000e+00 0.00000000e+00 3.50411301e-04 0.00000000e+00\n",
      " 0.00000000e+00 0.00000000e+00 1.37491406e-01 1.39568299e-01\n",
      " 1.39570451e-01 9.38256655e-01]\n",
      "[[ 0.12512642]\n",
      " [ 0.12512642]\n",
      " [ 0.12512642]\n",
      " [ 0.12512642]\n",
      " [ 0.12512642]\n",
      " [ 0.12512642]\n",
      " [-1.4268317 ]\n",
      " [ 0.12512642]\n",
      " [ 0.20415527]\n",
      " [ 0.12512642]]\n"
     ]
    },
    {
     "data": {
      "image/png": "[encoded data removed]",
      "text/plain": [
       "<Figure size 432x288 with 1 Axes>"
      ]
     },
     "metadata": {
      "needs_background": "light"
     },
     "output_type": "display_data"
    }
   ],
   "source": [
    "history = results.history\n",
    "print(target[-10:])\n",
    "y = model.predict(data[-10:])\n",
    "print(y)\n",
    "plt.plot(history[\"loss\"], label=\"training loss\")\n",
    "plt.plot(history[\"val_loss\"], label=\"validation loss\")\n",
    "plt.xlabel(\"Epoch\")\n",
    "plt.ylabel(\"Loss\")\n",
    "plt.legend()\n",
    "plt.show()"
   ]
  },
  {
   "cell_type": "markdown",
   "metadata": {},
   "source": [
    "The model is learning, but we can do better. Try increasing the number of hidden neurons to 20."
   ]
  },
  {
   "cell_type": "code",
   "execution_count": 9,
   "metadata": {},
   "outputs": [
    {
     "name": "stdout",
     "output_type": "stream",
     "text": [
      "Train on 199 samples, validate on 801 samples\n",
      "Epoch 1/30\n",
      "199/199 [==============================] - 0s 1ms/sample - loss: 4.4160 - val_loss: 2.1173\n",
      "Epoch 2/30\n",
      "199/199 [==============================] - 0s 33us/sample - loss: 4.5238 - val_loss: 2.7327\n",
      "Epoch 3/30\n",
      "199/199 [==============================] - 0s 40us/sample - loss: 2.3214 - val_loss: 3.3347\n",
      "Epoch 4/30\n",
      "199/199 [==============================] - 0s 40us/sample - loss: 3.1187 - val_loss: 1.1833\n",
      "Epoch 5/30\n",
      "199/199 [==============================] - 0s 30us/sample - loss: 1.0495 - val_loss: 0.2977\n",
      "Epoch 6/30\n",
      "199/199 [==============================] - 0s 35us/sample - loss: 0.2324 - val_loss: 0.5898\n",
      "Epoch 7/30\n",
      "199/199 [==============================] - 0s 30us/sample - loss: 0.5999 - val_loss: 0.8749\n",
      "Epoch 8/30\n",
      "199/199 [==============================] - 0s 29us/sample - loss: 0.8707 - val_loss: 0.7589\n",
      "Epoch 9/30\n",
      "199/199 [==============================] - 0s 45us/sample - loss: 0.6880 - val_loss: 0.4527\n",
      "Epoch 10/30\n",
      "199/199 [==============================] - 0s 29us/sample - loss: 0.3510 - val_loss: 0.2147\n",
      "Epoch 11/30\n",
      "199/199 [==============================] - 0s 54us/sample - loss: 0.1612 - val_loss: 0.1290\n",
      "Epoch 12/30\n",
      "199/199 [==============================] - 0s 49us/sample - loss: 0.1798 - val_loss: 0.1379\n",
      "Epoch 13/30\n",
      "199/199 [==============================] - 0s 68us/sample - loss: 0.2833 - val_loss: 0.1499\n",
      "Epoch 14/30\n",
      "199/199 [==============================] - 0s 66us/sample - loss: 0.3322 - val_loss: 0.1275\n",
      "Epoch 15/30\n",
      "199/199 [==============================] - 0s 67us/sample - loss: 0.2818 - val_loss: 0.0885\n",
      "Epoch 16/30\n",
      "199/199 [==============================] - 0s 62us/sample - loss: 0.1814 - val_loss: 0.0637\n",
      "Epoch 17/30\n",
      "199/199 [==============================] - 0s 58us/sample - loss: 0.0988 - val_loss: 0.0617\n",
      "Epoch 18/30\n",
      "199/199 [==============================] - 0s 56us/sample - loss: 0.0567 - val_loss: 0.0758\n",
      "Epoch 19/30\n",
      "199/199 [==============================] - 0s 54us/sample - loss: 0.0473 - val_loss: 0.0981\n",
      "Epoch 20/30\n",
      "199/199 [==============================] - 0s 75us/sample - loss: 0.0590 - val_loss: 0.1187\n",
      "Epoch 21/30\n",
      "199/199 [==============================] - 0s 29us/sample - loss: 0.0796 - val_loss: 0.1318\n",
      "Epoch 22/30\n",
      "199/199 [==============================] - 0s 88us/sample - loss: 0.0979 - val_loss: 0.1342\n",
      "Epoch 23/30\n",
      "199/199 [==============================] - 0s 69us/sample - loss: 0.1069 - val_loss: 0.1269\n",
      "Epoch 24/30\n",
      "199/199 [==============================] - 0s 50us/sample - loss: 0.1047 - val_loss: 0.1132\n",
      "Epoch 25/30\n",
      "199/199 [==============================] - 0s 53us/sample - loss: 0.0938 - val_loss: 0.0970\n",
      "Epoch 26/30\n",
      "199/199 [==============================] - 0s 64us/sample - loss: 0.0790 - val_loss: 0.0819\n",
      "Epoch 27/30\n",
      "199/199 [==============================] - 0s 72us/sample - loss: 0.0647 - val_loss: 0.0699\n",
      "Epoch 28/30\n",
      "199/199 [==============================] - 0s 74us/sample - loss: 0.0543 - val_loss: 0.0613\n",
      "Epoch 29/30\n",
      "199/199 [==============================] - 0s 34us/sample - loss: 0.0482 - val_loss: 0.0558\n",
      "Epoch 30/30\n",
      "199/199 [==============================] - 0s 64us/sample - loss: 0.0453 - val_loss: 0.0525\n"
     ]
    },
    {
     "data": {
      "text/plain": [
       "<tensorflow.python.keras.callbacks.History at 0x130ce4b38>"
      ]
     },
     "execution_count": 9,
     "metadata": {},
     "output_type": "execute_result"
    }
   ],
   "source": [
    "model=tf.keras.Sequential() #Define the model object\n",
    "model.add(tf.keras.layers.Dense(20,input_shape=(5,),activation=\"relu\")) #Add the hidden layer\n",
    "model.add(tf.keras.layers.Dense(1,input_shape=(20,))) #Add the output layer\n",
    "model.compile(tf.keras.optimizers.Adam(lr=0.1),loss=tf.keras.losses.MeanSquaredError()) #Adam optimizer and mean squared error loss\n",
    "model.fit(smallEnergy,smallTarget,epochs=30, batch_size=256, validation_split=0.8)"
   ]
  },
  {
   "cell_type": "markdown",
   "metadata": {},
   "source": [
    "That did not do much better, try decreasing the batch size to 16."
   ]
  },
  {
   "cell_type": "code",
   "execution_count": 10,
   "metadata": {},
   "outputs": [
    {
     "name": "stdout",
     "output_type": "stream",
     "text": [
      "Train on 199 samples, validate on 801 samples\n",
      "Epoch 1/30\n",
      "199/199 [==============================] - 0s 2ms/sample - loss: 1.9888 - val_loss: 0.1261\n",
      "Epoch 2/30\n",
      "199/199 [==============================] - 0s 471us/sample - loss: 0.1131 - val_loss: 0.1815\n",
      "Epoch 3/30\n",
      "199/199 [==============================] - 0s 325us/sample - loss: 0.3036 - val_loss: 0.0856\n",
      "Epoch 4/30\n",
      "199/199 [==============================] - 0s 315us/sample - loss: 0.2374 - val_loss: 0.1117\n",
      "Epoch 5/30\n",
      "199/199 [==============================] - 0s 310us/sample - loss: 0.0737 - val_loss: 0.0746\n",
      "Epoch 6/30\n",
      "199/199 [==============================] - 0s 225us/sample - loss: 0.0446 - val_loss: 0.0619\n",
      "Epoch 7/30\n",
      "199/199 [==============================] - 0s 210us/sample - loss: 0.0261 - val_loss: 0.0507\n",
      "Epoch 8/30\n",
      "199/199 [==============================] - 0s 208us/sample - loss: 0.0196 - val_loss: 0.0428\n",
      "Epoch 9/30\n",
      "199/199 [==============================] - 0s 212us/sample - loss: 0.0139 - val_loss: 0.0407\n",
      "Epoch 10/30\n",
      "199/199 [==============================] - 0s 385us/sample - loss: 0.0114 - val_loss: 0.0406\n",
      "Epoch 11/30\n",
      "199/199 [==============================] - 0s 334us/sample - loss: 0.0097 - val_loss: 0.0419\n",
      "Epoch 12/30\n",
      "199/199 [==============================] - 0s 315us/sample - loss: 0.0093 - val_loss: 0.0434\n",
      "Epoch 13/30\n",
      "199/199 [==============================] - 0s 326us/sample - loss: 0.0092 - val_loss: 0.0453\n",
      "Epoch 14/30\n",
      "199/199 [==============================] - 0s 264us/sample - loss: 0.0090 - val_loss: 0.0453\n",
      "Epoch 15/30\n",
      "199/199 [==============================] - 0s 214us/sample - loss: 0.0095 - val_loss: 0.0440\n",
      "Epoch 16/30\n",
      "199/199 [==============================] - 0s 223us/sample - loss: 0.0085 - val_loss: 0.0446\n",
      "Epoch 17/30\n",
      "199/199 [==============================] - 0s 216us/sample - loss: 0.0090 - val_loss: 0.0450\n",
      "Epoch 18/30\n",
      "199/199 [==============================] - 0s 230us/sample - loss: 0.0085 - val_loss: 0.0428\n",
      "Epoch 19/30\n",
      "199/199 [==============================] - 0s 216us/sample - loss: 0.0108 - val_loss: 0.0443\n",
      "Epoch 20/30\n",
      "199/199 [==============================] - 0s 210us/sample - loss: 0.0084 - val_loss: 0.0454\n",
      "Epoch 21/30\n",
      "199/199 [==============================] - 0s 211us/sample - loss: 0.0107 - val_loss: 0.0426\n",
      "Epoch 22/30\n",
      "199/199 [==============================] - 0s 209us/sample - loss: 0.0090 - val_loss: 0.0442\n",
      "Epoch 23/30\n",
      "199/199 [==============================] - 0s 211us/sample - loss: 0.0090 - val_loss: 0.0425\n",
      "Epoch 24/30\n",
      "199/199 [==============================] - 0s 362us/sample - loss: 0.0087 - val_loss: 0.0431\n",
      "Epoch 25/30\n",
      "199/199 [==============================] - 0s 314us/sample - loss: 0.0104 - val_loss: 0.0405\n",
      "Epoch 26/30\n",
      "199/199 [==============================] - 0s 325us/sample - loss: 0.0089 - val_loss: 0.0418\n",
      "Epoch 27/30\n",
      "199/199 [==============================] - 0s 306us/sample - loss: 0.0090 - val_loss: 0.0415\n",
      "Epoch 28/30\n",
      "199/199 [==============================] - 0s 299us/sample - loss: 0.0092 - val_loss: 0.0418\n",
      "Epoch 29/30\n",
      "199/199 [==============================] - 0s 227us/sample - loss: 0.0120 - val_loss: 0.0462\n",
      "Epoch 30/30\n",
      "199/199 [==============================] - 0s 214us/sample - loss: 0.0106 - val_loss: 0.0411\n",
      "[0.00000000e+00 0.00000000e+00 3.50411301e-04 0.00000000e+00\n",
      " 0.00000000e+00 0.00000000e+00 1.37491406e-01 1.39568299e-01\n",
      " 1.39570451e-01 9.38256655e-01]\n",
      "[[ 0.04713208]\n",
      " [ 0.04713208]\n",
      " [ 0.04713208]\n",
      " [ 0.04713208]\n",
      " [ 0.04713208]\n",
      " [ 0.04713208]\n",
      " [ 0.04713208]\n",
      " [ 0.22990513]\n",
      " [-0.0348876 ]\n",
      " [ 0.85029423]]\n"
     ]
    }
   ],
   "source": [
    "model=tf.keras.Sequential() #Define the model object\n",
    "model.add(tf.keras.layers.Dense(20,input_shape=(5,),activation=\"relu\")) #Add the hidden layer\n",
    "model.add(tf.keras.layers.Dense(1,input_shape=(20,))) #Add the output layer\n",
    "model.compile(tf.keras.optimizers.Adam(lr=0.1),loss=tf.keras.losses.MeanSquaredError()) #Adam optimizer and mean squared error loss\n",
    "model.fit(smallEnergy,smallTarget,epochs=30, batch_size=16, validation_split=0.8)\n",
    "print(target[-10:])\n",
    "y = model.predict(data[-10:])\n",
    "print(y)"
   ]
  },
  {
   "cell_type": "markdown",
   "metadata": {},
   "source": [
    "This is starting to do better but has room for improvemnt. Perhpas the learning rate is to high and the network can't fine tune. Try decreasing the learning rate to 0.001."
   ]
  },
  {
   "cell_type": "code",
   "execution_count": 11,
   "metadata": {},
   "outputs": [
    {
     "name": "stdout",
     "output_type": "stream",
     "text": [
      "Train on 199 samples, validate on 801 samples\n",
      "Epoch 1/30\n",
      "199/199 [==============================] - 0s 2ms/sample - loss: 2.0640 - val_loss: 2.5178\n",
      "Epoch 2/30\n",
      "199/199 [==============================] - 0s 216us/sample - loss: 1.1162 - val_loss: 1.5903\n",
      "Epoch 3/30\n",
      "199/199 [==============================] - 0s 221us/sample - loss: 0.5722 - val_loss: 1.1043\n",
      "Epoch 4/30\n",
      "199/199 [==============================] - 0s 216us/sample - loss: 0.3565 - val_loss: 0.8529\n",
      "Epoch 5/30\n",
      "199/199 [==============================] - 0s 228us/sample - loss: 0.2633 - val_loss: 0.7044\n",
      "Epoch 6/30\n",
      "199/199 [==============================] - 0s 259us/sample - loss: 0.2016 - val_loss: 0.6189\n",
      "Epoch 7/30\n",
      "199/199 [==============================] - 0s 253us/sample - loss: 0.1617 - val_loss: 0.5627\n",
      "Epoch 8/30\n",
      "199/199 [==============================] - 0s 260us/sample - loss: 0.1373 - val_loss: 0.5267\n",
      "Epoch 9/30\n",
      "199/199 [==============================] - 0s 332us/sample - loss: 0.1142 - val_loss: 0.5045\n",
      "Epoch 10/30\n",
      "199/199 [==============================] - 0s 399us/sample - loss: 0.1027 - val_loss: 0.4761\n",
      "Epoch 11/30\n",
      "199/199 [==============================] - 0s 407us/sample - loss: 0.0891 - val_loss: 0.4518\n",
      "Epoch 12/30\n",
      "199/199 [==============================] - 0s 369us/sample - loss: 0.0799 - val_loss: 0.4390\n",
      "Epoch 13/30\n",
      "199/199 [==============================] - 0s 396us/sample - loss: 0.0738 - val_loss: 0.4289\n",
      "Epoch 14/30\n",
      "199/199 [==============================] - 0s 276us/sample - loss: 0.0668 - val_loss: 0.4106\n",
      "Epoch 15/30\n",
      "199/199 [==============================] - 0s 213us/sample - loss: 0.0610 - val_loss: 0.3960\n",
      "Epoch 16/30\n",
      "199/199 [==============================] - 0s 250us/sample - loss: 0.0556 - val_loss: 0.3866\n",
      "Epoch 17/30\n",
      "199/199 [==============================] - 0s 417us/sample - loss: 0.0520 - val_loss: 0.3829\n",
      "Epoch 18/30\n",
      "199/199 [==============================] - 0s 410us/sample - loss: 0.0472 - val_loss: 0.3666\n",
      "Epoch 19/30\n",
      "199/199 [==============================] - 0s 299us/sample - loss: 0.0443 - val_loss: 0.3571\n",
      "Epoch 20/30\n",
      "199/199 [==============================] - 0s 305us/sample - loss: 0.0420 - val_loss: 0.3479\n",
      "Epoch 21/30\n",
      "199/199 [==============================] - 0s 261us/sample - loss: 0.0395 - val_loss: 0.3501\n",
      "Epoch 22/30\n",
      "199/199 [==============================] - 0s 373us/sample - loss: 0.0363 - val_loss: 0.3456\n",
      "Epoch 23/30\n",
      "199/199 [==============================] - 0s 417us/sample - loss: 0.0347 - val_loss: 0.3329\n",
      "Epoch 24/30\n",
      "199/199 [==============================] - 0s 289us/sample - loss: 0.0331 - val_loss: 0.3297\n",
      "Epoch 25/30\n",
      "199/199 [==============================] - 0s 230us/sample - loss: 0.0313 - val_loss: 0.3229\n",
      "Epoch 26/30\n",
      "199/199 [==============================] - 0s 260us/sample - loss: 0.0300 - val_loss: 0.3179\n",
      "Epoch 27/30\n",
      "199/199 [==============================] - 0s 408us/sample - loss: 0.0287 - val_loss: 0.3182\n",
      "Epoch 28/30\n",
      "199/199 [==============================] - 0s 313us/sample - loss: 0.0279 - val_loss: 0.3116\n",
      "Epoch 29/30\n",
      "199/199 [==============================] - 0s 338us/sample - loss: 0.0266 - val_loss: 0.3083\n",
      "Epoch 30/30\n",
      "199/199 [==============================] - 0s 283us/sample - loss: 0.0257 - val_loss: 0.3035\n"
     ]
    },
    {
     "data": {
      "text/plain": [
       "<tensorflow.python.keras.callbacks.History at 0x131606d68>"
      ]
     },
     "execution_count": 11,
     "metadata": {},
     "output_type": "execute_result"
    }
   ],
   "source": [
    "model=tf.keras.Sequential() #Define the model object\n",
    "model.add(tf.keras.layers.Dense(20,input_shape=(5,),activation=\"relu\")) #Add the hidden layer\n",
    "model.add(tf.keras.layers.Dense(1,input_shape=(20,))) #Add the output layer\n",
    "model.compile(tf.keras.optimizers.Adam(lr=0.001),loss=tf.keras.losses.MeanSquaredError()) #Adam optimizer and mean squared error loss\n",
    "model.fit(smallEnergy,smallTarget,epochs=30, batch_size=16, validation_split=0.8)"
   ]
  },
  {
   "cell_type": "markdown",
   "metadata": {},
   "source": [
    "This is not really that mutch better, but now there is evidence of overtraining, as the training loss is so much lower than the validation loss. A common fix to this is adding dropout layers. Try adding a dropout layer with dropout rate of 0.5."
   ]
  },
  {
   "cell_type": "code",
   "execution_count": 12,
   "metadata": {},
   "outputs": [
    {
     "name": "stdout",
     "output_type": "stream",
     "text": [
      "Train on 199 samples, validate on 801 samples\n",
      "Epoch 1/30\n",
      "199/199 [==============================] - 1s 3ms/sample - loss: 10.6094 - val_loss: 7.7382\n",
      "Epoch 2/30\n",
      "199/199 [==============================] - 0s 338us/sample - loss: 9.1563 - val_loss: 6.3441\n",
      "Epoch 3/30\n",
      "199/199 [==============================] - 0s 337us/sample - loss: 4.8283 - val_loss: 5.3330\n",
      "Epoch 4/30\n",
      "199/199 [==============================] - 0s 266us/sample - loss: 7.7848 - val_loss: 4.6875\n",
      "Epoch 5/30\n",
      "199/199 [==============================] - 0s 248us/sample - loss: 9.4101 - val_loss: 4.1041\n",
      "Epoch 6/30\n",
      "199/199 [==============================] - 0s 461us/sample - loss: 4.1793 - val_loss: 3.3985\n",
      "Epoch 7/30\n",
      "199/199 [==============================] - 0s 349us/sample - loss: 5.1798 - val_loss: 2.8578\n",
      "Epoch 8/30\n",
      "199/199 [==============================] - 0s 342us/sample - loss: 4.2519 - val_loss: 2.4820\n",
      "Epoch 9/30\n",
      "199/199 [==============================] - 0s 299us/sample - loss: 4.0901 - val_loss: 2.1913\n",
      "Epoch 10/30\n",
      "199/199 [==============================] - 0s 278us/sample - loss: 3.1581 - val_loss: 1.9236\n",
      "Epoch 11/30\n",
      "199/199 [==============================] - 0s 232us/sample - loss: 4.1686 - val_loss: 1.6906\n",
      "Epoch 12/30\n",
      "199/199 [==============================] - 0s 233us/sample - loss: 3.7394 - val_loss: 1.3950\n",
      "Epoch 13/30\n",
      "199/199 [==============================] - 0s 239us/sample - loss: 4.6781 - val_loss: 1.3016\n",
      "Epoch 14/30\n",
      "199/199 [==============================] - 0s 265us/sample - loss: 4.1391 - val_loss: 1.1757\n",
      "Epoch 15/30\n",
      "199/199 [==============================] - 0s 233us/sample - loss: 2.5977 - val_loss: 1.0540\n",
      "Epoch 16/30\n",
      "199/199 [==============================] - 0s 239us/sample - loss: 4.3645 - val_loss: 0.9260\n",
      "Epoch 17/30\n",
      "199/199 [==============================] - 0s 256us/sample - loss: 3.3476 - val_loss: 0.8237\n",
      "Epoch 18/30\n",
      "199/199 [==============================] - 0s 228us/sample - loss: 2.8945 - val_loss: 0.7691\n",
      "Epoch 19/30\n",
      "199/199 [==============================] - 0s 267us/sample - loss: 1.9476 - val_loss: 0.7368\n",
      "Epoch 20/30\n",
      "199/199 [==============================] - 0s 286us/sample - loss: 2.1160 - val_loss: 0.6809\n",
      "Epoch 21/30\n",
      "199/199 [==============================] - 0s 281us/sample - loss: 2.9224 - val_loss: 0.6498\n",
      "Epoch 22/30\n",
      "199/199 [==============================] - 0s 280us/sample - loss: 2.2618 - val_loss: 0.5862\n",
      "Epoch 23/30\n",
      "199/199 [==============================] - 0s 272us/sample - loss: 1.9170 - val_loss: 0.5765\n",
      "Epoch 24/30\n",
      "199/199 [==============================] - 0s 235us/sample - loss: 2.3398 - val_loss: 0.5388\n",
      "Epoch 25/30\n",
      "199/199 [==============================] - 0s 235us/sample - loss: 2.2238 - val_loss: 0.4990\n",
      "Epoch 26/30\n",
      "199/199 [==============================] - 0s 237us/sample - loss: 2.1972 - val_loss: 0.4883\n",
      "Epoch 27/30\n",
      "199/199 [==============================] - 0s 473us/sample - loss: 2.8074 - val_loss: 0.4823\n",
      "Epoch 28/30\n",
      "199/199 [==============================] - 0s 434us/sample - loss: 2.3379 - val_loss: 0.4658\n",
      "Epoch 29/30\n",
      "199/199 [==============================] - 0s 340us/sample - loss: 1.8740 - val_loss: 0.4517\n",
      "Epoch 30/30\n",
      "199/199 [==============================] - 0s 333us/sample - loss: 1.3472 - val_loss: 0.4406\n"
     ]
    },
    {
     "data": {
      "text/plain": [
       "<tensorflow.python.keras.callbacks.History at 0x131b59d68>"
      ]
     },
     "execution_count": 12,
     "metadata": {},
     "output_type": "execute_result"
    }
   ],
   "source": [
    "model=tf.keras.Sequential() #Define the model object\n",
    "model.add(tf.keras.layers.Dense(20,input_shape=(5,),activation=\"relu\")) #Add the hidden layer\n",
    "model.add(tf.keras.layers.Dropout(0.5))\n",
    "model.add(tf.keras.layers.Dense(1,input_shape=(20,))) #Add the output layer\n",
    "model.compile(tf.keras.optimizers.Adam(lr=0.001),loss=tf.keras.losses.MeanSquaredError()) #Adam optimizer and mean squared error loss\n",
    "model.fit(smallEnergy,smallTarget,epochs=30, batch_size=16, validation_split=0.8)"
   ]
  },
  {
   "cell_type": "markdown",
   "metadata": {},
   "source": [
    "This clearly stoped the overtraining problem, but it still isn't training well. Now, try training on the full dataset with a more reasonable validation split of 0.2. Use the a single hidden layer with 20 neurons, a learning rate of 0.001, and a batch size of 256. Just run it for 10 epochs."
   ]
  },
  {
   "cell_type": "code",
   "execution_count": 13,
   "metadata": {},
   "outputs": [
    {
     "name": "stdout",
     "output_type": "stream",
     "text": [
      "Train on 459724 samples, validate on 114932 samples\n",
      "Epoch 1/10\n",
      "459724/459724 [==============================] - 3s 7us/sample - loss: 0.0191 - val_loss: 0.0068\n",
      "Epoch 2/10\n",
      "459724/459724 [==============================] - 3s 7us/sample - loss: 0.0065 - val_loss: 0.0061\n",
      "Epoch 3/10\n",
      "459724/459724 [==============================] - 3s 7us/sample - loss: 0.0060 - val_loss: 0.0058\n",
      "Epoch 4/10\n",
      "459724/459724 [==============================] - 3s 6us/sample - loss: 0.0057 - val_loss: 0.0055\n",
      "Epoch 5/10\n",
      "459724/459724 [==============================] - 3s 7us/sample - loss: 0.0056 - val_loss: 0.0056\n",
      "Epoch 6/10\n",
      "459724/459724 [==============================] - 3s 7us/sample - loss: 0.0055 - val_loss: 0.0054\n",
      "Epoch 7/10\n",
      "459724/459724 [==============================] - 3s 6us/sample - loss: 0.0055 - val_loss: 0.0053\n",
      "Epoch 8/10\n",
      "459724/459724 [==============================] - 3s 6us/sample - loss: 0.0054 - val_loss: 0.0054\n",
      "Epoch 9/10\n",
      "459724/459724 [==============================] - 3s 6us/sample - loss: 0.0054 - val_loss: 0.0053\n",
      "Epoch 10/10\n",
      "459724/459724 [==============================] - 3s 6us/sample - loss: 0.0053 - val_loss: 0.0052\n"
     ]
    },
    {
     "data": {
      "text/plain": [
       "<tensorflow.python.keras.callbacks.History at 0x131f81c18>"
      ]
     },
     "execution_count": 13,
     "metadata": {},
     "output_type": "execute_result"
    }
   ],
   "source": [
    "model=tf.keras.Sequential() #Define the model object\n",
    "model.add(tf.keras.layers.Dense(20,input_shape=(5,),activation=\"relu\")) #Add the hidden layer\n",
    "model.add(tf.keras.layers.Dense(1,input_shape=(20,))) #Add the output layer\n",
    "model.compile(tf.keras.optimizers.Adam(lr=0.001),loss=tf.keras.losses.MeanSquaredError()) #Adam optimizer and mean squared error loss\n",
    "model.fit(data,target,epochs=10, batch_size=256, validation_split=0.2)"
   ]
  },
  {
   "cell_type": "markdown",
   "metadata": {},
   "source": [
    "This resulted in significant improvement and shows how important having a large enough dataset it. Moving on to the choice in activation functions, ReLU is not the only available choice, although it is currently the most popular for deep networks. \n",
    "\n",
    "Train a network using a sigmoid and/or tanh activation function."
   ]
  },
  {
   "cell_type": "code",
   "execution_count": 14,
   "metadata": {},
   "outputs": [
    {
     "name": "stdout",
     "output_type": "stream",
     "text": [
      "Train on 459724 samples, validate on 114932 samples\n",
      "Epoch 1/10\n",
      "459724/459724 [==============================] - 4s 8us/sample - loss: 0.0225 - val_loss: 0.0162\n",
      "Epoch 2/10\n",
      "459724/459724 [==============================] - 3s 6us/sample - loss: 0.0114 - val_loss: 0.0094\n",
      "Epoch 3/10\n",
      "459724/459724 [==============================] - 3s 6us/sample - loss: 0.0091 - val_loss: 0.0089\n",
      "Epoch 4/10\n",
      "459724/459724 [==============================] - 3s 6us/sample - loss: 0.0086 - val_loss: 0.0086\n",
      "Epoch 5/10\n",
      "459724/459724 [==============================] - 3s 6us/sample - loss: 0.0081 - val_loss: 0.0077\n",
      "Epoch 6/10\n",
      "459724/459724 [==============================] - 3s 7us/sample - loss: 0.0074 - val_loss: 0.0070\n",
      "Epoch 7/10\n",
      "459724/459724 [==============================] - 3s 6us/sample - loss: 0.0067 - val_loss: 0.0063\n",
      "Epoch 8/10\n",
      "459724/459724 [==============================] - 3s 6us/sample - loss: 0.0060 - val_loss: 0.0056\n",
      "Epoch 9/10\n",
      "459724/459724 [==============================] - 3s 6us/sample - loss: 0.0054 - val_loss: 0.0051\n",
      "Epoch 10/10\n",
      "459724/459724 [==============================] - 3s 6us/sample - loss: 0.0049 - val_loss: 0.0047\n",
      "Train on 459724 samples, validate on 114932 samples\n",
      "Epoch 1/10\n",
      "459724/459724 [==============================] - 4s 8us/sample - loss: 0.0346 - val_loss: 0.0091\n",
      "Epoch 2/10\n",
      "459724/459724 [==============================] - 3s 6us/sample - loss: 0.0085 - val_loss: 0.0078\n",
      "Epoch 3/10\n",
      "459724/459724 [==============================] - 3s 6us/sample - loss: 0.0074 - val_loss: 0.0070\n",
      "Epoch 4/10\n",
      "459724/459724 [==============================] - 3s 6us/sample - loss: 0.0066 - val_loss: 0.0061\n",
      "Epoch 5/10\n",
      "459724/459724 [==============================] - 3s 6us/sample - loss: 0.0057 - val_loss: 0.0051\n",
      "Epoch 6/10\n",
      "459724/459724 [==============================] - 3s 6us/sample - loss: 0.0048 - val_loss: 0.0045\n",
      "Epoch 7/10\n",
      "459724/459724 [==============================] - 3s 7us/sample - loss: 0.0042 - val_loss: 0.0038\n",
      "Epoch 8/10\n",
      "459724/459724 [==============================] - 3s 6us/sample - loss: 0.0037 - val_loss: 0.0035\n",
      "Epoch 9/10\n",
      "459724/459724 [==============================] - 3s 6us/sample - loss: 0.0034 - val_loss: 0.0032\n",
      "Epoch 10/10\n",
      "459724/459724 [==============================] - 3s 6us/sample - loss: 0.0031 - val_loss: 0.0030\n"
     ]
    },
    {
     "data": {
      "text/plain": [
       "<tensorflow.python.keras.callbacks.History at 0x1343c7b70>"
      ]
     },
     "execution_count": 14,
     "metadata": {},
     "output_type": "execute_result"
    }
   ],
   "source": [
    "model=tf.keras.Sequential() #Define the model object\n",
    "model.add(tf.keras.layers.Dense(20,input_shape=(5,),activation=\"sigmoid\")) #Add the hidden layer\n",
    "model.add(tf.keras.layers.Dense(1,input_shape=(20,))) #Add the output layer\n",
    "model.compile(tf.keras.optimizers.Adam(lr=0.001),loss=tf.keras.losses.MeanSquaredError()) #Adam optimizer and mean squared error loss\n",
    "model.fit(data,target,epochs=10, batch_size=256, validation_split=0.2)\n",
    "\n",
    "model=tf.keras.Sequential() #Define the model object\n",
    "model.add(tf.keras.layers.Dense(20,input_shape=(5,),activation=\"tanh\")) #Add the hidden layer\n",
    "model.add(tf.keras.layers.Dense(1,input_shape=(20,))) #Add the output layer\n",
    "model.compile(tf.keras.optimizers.Adam(lr=0.001),loss=tf.keras.losses.MeanSquaredError()) #Adam optimizer and mean squared error loss\n",
    "model.fit(data,target,epochs=10, batch_size=256, validation_split=0.2)"
   ]
  },
  {
   "cell_type": "markdown",
   "metadata": {},
   "source": [
    "Next, try adding 2 new hidden layers to the network. Use the relu activation function."
   ]
  },
  {
   "cell_type": "code",
   "execution_count": null,
   "metadata": {},
   "outputs": [
    {
     "name": "stdout",
     "output_type": "stream",
     "text": [
      "Train on 459724 samples, validate on 114932 samples\n",
      "Epoch 1/10\n",
      "459724/459724 [==============================] - 5s 11us/sample - loss: 0.0089 - val_loss: 0.0028\n",
      "Epoch 2/10\n",
      "459724/459724 [==============================] - 4s 8us/sample - loss: 0.0021 - val_loss: 0.0015\n",
      "Epoch 3/10\n",
      " 81408/459724 [====>.........................] - ETA: 2s - loss: 0.0016"
     ]
    }
   ],
   "source": [
    "model=tf.keras.Sequential() #Define the model object\n",
    "model.add(tf.keras.layers.Dense(20,input_shape=(5,),activation=\"relu\")) #Add the hidden layer\n",
    "model.add(tf.keras.layers.Dense(20,input_shape=(20,),activation=\"relu\")) #Add the hidden layer\n",
    "model.add(tf.keras.layers.Dense(20,input_shape=(20,),activation=\"relu\")) #Add the hidden layer\n",
    "model.add(tf.keras.layers.Dense(1,input_shape=(20,))) #Add the output layer\n",
    "model.compile(tf.keras.optimizers.Adam(lr=0.001),loss=tf.keras.losses.MeanSquaredError()) #Adam optimizer and mean squared error loss\n",
    "model.fit(data,target,epochs=10, batch_size=256, validation_split=0.2)"
   ]
  },
  {
   "cell_type": "markdown",
   "metadata": {},
   "source": [
    "Clearly, adding more layers helps improve the quality of the network. There is a limit to now effective this is though. Try having 5 hidden layers."
   ]
  },
  {
   "cell_type": "code",
   "execution_count": null,
   "metadata": {},
   "outputs": [],
   "source": [
    "model=tf.keras.Sequential() #Define the model object\n",
    "model.add(tf.keras.layers.Dense(20,input_shape=(5,),activation=\"relu\")) #Add the hidden layer\n",
    "model.add(tf.keras.layers.Dense(20,input_shape=(20,),activation=\"relu\")) #Add the hidden layer\n",
    "model.add(tf.keras.layers.Dense(20,input_shape=(20,),activation=\"relu\")) #Add the hidden layer\n",
    "model.add(tf.keras.layers.Dense(20,input_shape=(20,),activation=\"relu\")) #Add the hidden layer\n",
    "model.add(tf.keras.layers.Dense(20,input_shape=(20,),activation=\"relu\")) #Add the hidden layer\n",
    "model.add(tf.keras.layers.Dense(1,input_shape=(20,))) #Add the output layer\n",
    "model.compile(tf.keras.optimizers.Adam(lr=0.001),loss=tf.keras.losses.MeanSquaredError()) #Adam optimizer and mean squared error loss\n",
    "model.fit(energy,target,epochs=10, batch_size=256, validation_split=0.2)"
   ]
  },
  {
   "cell_type": "markdown",
   "metadata": {},
   "source": [
    "Now, see what happens when you increase the number of neurons per layer from 20 to 50 in the 3 hidden layer model. Consider how they perform compared to Relu now. "
   ]
  },
  {
   "cell_type": "code",
   "execution_count": null,
   "metadata": {},
   "outputs": [],
   "source": [
    "model=tf.keras.Sequential() #Define the model object\n",
    "model.add(tf.keras.layers.Dense(50,input_shape=(5,),activation=\"relu\")) #Add the hidden layer\n",
    "model.add(tf.keras.layers.Dense(50,input_shape=(50,),activation=\"relu\")) #Add the hidden layer\n",
    "model.add(tf.keras.layers.Dense(50,input_shape=(50,),activation=\"relu\")) #Add the hidden layer\n",
    "model.add(tf.keras.layers.Dense(1,input_shape=(50,))) #Add the output layer\n",
    "model.compile(tf.keras.optimizers.Adam(lr=0.001),loss=tf.keras.losses.MeanSquaredError()) #Adam optimizer and mean squared error loss\n",
    "model.fit(energy,target,epochs=10, batch_size=256, validation_split=0.2)"
   ]
  },
  {
   "cell_type": "markdown",
   "metadata": {},
   "source": [
    "Try using the sigmoid and the tanh activation functions again and compare them to relu."
   ]
  },
  {
   "cell_type": "code",
   "execution_count": null,
   "metadata": {},
   "outputs": [],
   "source": [
    "model=tf.keras.Sequential() #Define the model object\n",
    "model.add(tf.keras.layers.Dense(50,input_shape=(5,),activation=\"sigmoid\")) #Add the hidden layer\n",
    "model.add(tf.keras.layers.Dense(50,input_shape=(50,),activation=\"sigmoid\")) #Add the hidden layer\n",
    "model.add(tf.keras.layers.Dense(50,input_shape=(50,),activation=\"sigmoid\")) #Add the hidden layer\n",
    "model.add(tf.keras.layers.Dense(1,input_shape=(50,))) #Add the output layer\n",
    "model.compile(tf.keras.optimizers.Adam(lr=0.001),loss=tf.keras.losses.MeanSquaredError()) #Adam optimizer and mean squared error loss\n",
    "model.fit(energy,target,epochs=10, batch_size=256, validation_split=0.2)\n",
    "\n",
    "model=tf.keras.Sequential() #Define the model object\n",
    "model.add(tf.keras.layers.Dense(50,input_shape=(5,),activation=\"tanh\")) #Add the hidden layer\n",
    "model.add(tf.keras.layers.Dense(50,input_shape=(50,),activation=\"tanh\")) #Add the hidden layer\n",
    "model.add(tf.keras.layers.Dense(50,input_shape=(50,),activation=\"tanh\")) #Add the hidden layer\n",
    "model.add(tf.keras.layers.Dense(1,input_shape=(50,))) #Add the output layer\n",
    "model.compile(tf.keras.optimizers.Adam(lr=0.001),loss=tf.keras.losses.MeanSquaredError()) #Adam optimizer and mean squared error loss\n",
    "model.fit(energy,target,epochs=10, batch_size=256, validation_split=0.2)"
   ]
  },
  {
   "cell_type": "markdown",
   "metadata": {},
   "source": [
    "This difference in performace, especially with the sigmoid function, is known as the vanishing gradient problem. If the value for any one the neurons gets too far away from 0, the gradient for sigmoid and tanh gets really close to 0. This means that for deeper networks it is much more difficult to update the first layers as their gradient is so small. Now, remove the fifth column from the input data, the charge, and see what happens when training. Why do you thing including charge has such a large impact?"
   ]
  },
  {
   "cell_type": "code",
   "execution_count": null,
   "metadata": {},
   "outputs": [],
   "source": [
    "model=tf.keras.Sequential() #Define the model object\n",
    "model.add(tf.keras.layers.Dense(50,input_shape=(5,),activation=\"relu\")) #Add the hidden layer\n",
    "model.add(tf.keras.layers.Dense(50,input_shape=(50,),activation=\"relu\")) #Add the hidden layer\n",
    "model.add(tf.keras.layers.Dense(50,input_shape=(50,),activation=\"relu\")) #Add the hidden layer\n",
    "model.add(tf.keras.layers.Dense(1,input_shape=(50,))) #Add the output layer\n",
    "model.compile(tf.keras.optimizers.Adam(lr=0.001),loss=tf.keras.losses.MeanSquaredError()) #Adam optimizer and mean squared error loss\n",
    "model.fit(data,target,epochs=10, batch_size=256, validation_split=0.2)"
   ]
  },
  {
   "cell_type": "markdown",
   "metadata": {},
   "source": [
    "Finally, there are other options for the loss function. Try experimenting with mean squared error. Other optimizers that can be used are sgd, rmsprop, adagrad, adadelta, adamax, and nadam. <https://www.tensorflow.org/api_docs/python/tf/keras/optimizers>\n",
    "\n",
    "<https://www.tensorflow.org/api_docs/python/tf/keras/losses>"
   ]
  },
  {
   "cell_type": "code",
   "execution_count": null,
   "metadata": {},
   "outputs": [],
   "source": [
    "y = model.predict(data[-100000:])\n",
    "plt.hist(y,bins=100)"
   ]
  },
  {
   "cell_type": "code",
   "execution_count": null,
   "metadata": {},
   "outputs": [],
   "source": []
  }
 ],
 "metadata": {
  "kernelspec": {
   "display_name": "Python 3",
   "language": "python",
   "name": "python3"
  },
  "language_info": {
   "codemirror_mode": {
    "name": "ipython",
    "version": 3
   },
   "file_extension": ".py",
   "mimetype": "text/x-python",
   "name": "python",
   "nbconvert_exporter": "python",
   "pygments_lexer": "ipython3",
   "version": "3.6.8"
  }
 },
 "nbformat": 4,
 "nbformat_minor": 2
}
