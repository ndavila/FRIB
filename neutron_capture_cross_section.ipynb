{
  "nbformat": 4,
  "nbformat_minor": 0,
  "metadata": {
    "colab": {
      "name": "Neutron_capture_cross_section.ipynb",
      "provenance": [],
      "toc_visible": true,
      "authorship_tag": "ABX9TyOgHWVPXuT8N58AAqk93FiQ",
      "include_colab_link": true
    },
    "kernelspec": {
      "name": "python3",
      "display_name": "Python 3"
    },
    "language_info": {
      "name": "python"
    }
  },
  "cells": [
    {
      "cell_type": "markdown",
      "metadata": {
        "id": "view-in-github",
        "colab_type": "text"
      },
      "source": [
        "<a href=\"https://colab.research.google.com/github/ndavila/FRIB/blob/master/neutron_capture_cross_section.ipynb\" target=\"_parent\"><img src=\"https://colab.research.google.com/assets/colab-badge.svg\" alt=\"Open In Colab\"/></a>"
      ]
    },
    {
      "cell_type": "markdown",
      "source": [
        "This is a notebook that calaculates neutron capture cross sections"
      ],
      "metadata": {
        "id": "quNLe2bn0Eh3"
      }
    },
    {
      "cell_type": "code",
      "source": [
        "import sys\n",
        "!{sys.executable} -m pip install --quiet wnutils"
      ],
      "metadata": {
        "id": "wjXHgtLr0Lqt"
      },
      "execution_count": null,
      "outputs": []
    },
    {
      "cell_type": "code",
      "source": [
        "import sys\n",
        "!{sys.executable} -m pip install --quiet astropy"
      ],
      "metadata": {
        "id": "tZym2osW1h8g"
      },
      "execution_count": null,
      "outputs": []
    },
    {
      "cell_type": "code",
      "source": [
        "import os, io, requests\n",
        "from lxml import etree"
      ],
      "metadata": {
        "id": "mISaHdei1kCI"
      },
      "execution_count": null,
      "outputs": []
    },
    {
      "cell_type": "markdown",
      "source": [
        ""
      ],
      "metadata": {
        "id": "dndDItJE1lv5"
      }
    },
    {
      "cell_type": "code",
      "source": [
        "import wnutils.xml as wx\n",
        "import numpy as np\n",
        "from astropy import constants as pc\n",
        "from astropy import units as u\n",
        "from matplotlib import pyplot as plt\n",
        "import itertools as it"
      ],
      "metadata": {
        "id": "Mgrcj6xl1mMT"
      },
      "execution_count": null,
      "outputs": []
    },
    {
      "cell_type": "markdown",
      "source": [
        ""
      ],
      "metadata": {
        "id": "Ow3BRH3q1oRk"
      }
    },
    {
      "cell_type": "code",
      "source": [
        "my_xml = wx.Xml(io.BytesIO(requests.get('https://osf.io/vqhxr/download').content))"
      ],
      "metadata": {
        "id": "K7puh5bF1o0g"
      },
      "execution_count": null,
      "outputs": []
    },
    {
      "cell_type": "code",
      "source": [
        "t9 = 0.8\n",
        "T = t9 * 1.e9 * u.K\n",
        "Z = str(43)"
      ],
      "metadata": {
        "id": "t9AKivcu1rjQ"
      },
      "execution_count": null,
      "outputs": []
    },
    {
      "cell_type": "code",
      "source": [
        "v_t = np.sqrt((2 * pc.k_B.decompose(u.cgs.bases) * T) / pc.m_n.decompose(u.cgs.bases))"
      ],
      "metadata": {
        "id": "NsaGPWxM1uUI"
      },
      "execution_count": null,
      "outputs": []
    },
    {
      "cell_type": "code",
      "source": [
        "sig_dict = {}\n",
        "\n",
        "filter = {}"
      ],
      "metadata": {
        "id": "V757KANm1yHC"
      },
      "execution_count": null,
      "outputs": []
    },
    {
      "cell_type": "code",
      "source": [
        "nuclides = {}\n",
        "nuc = my_xml.get_nuclide_data(\"[z = \" + Z +\"]\")\n",
        "nuclides.update(nuc)"
      ],
      "metadata": {
        "id": "HjQv36BX10c-"
      },
      "execution_count": null,
      "outputs": []
    },
    {
      "cell_type": "code",
      "source": [
        "reac = my_xml.get_reaction_data(\"[reactant = 'n' and count(reactant) = 2  and product = 'gamma' and count(product) = 2]\")"
      ],
      "metadata": {
        "id": "vBWn1_hA12SY"
      },
      "execution_count": null,
      "outputs": []
    },
    {
      "cell_type": "code",
      "source": [
        "for s in reac:\n",
        "    reaction = reac[s]\n",
        "    rate = reaction.compute_rate(t9) * u.cm**3 /u.second /u.mol \n",
        "    sigma = (rate / (pc.N_A * v_t)).to(u.barn)\n",
        "        \n",
        "    usigma = 1000 * sigma / u.barn\n",
        "    sig_dict[s] = usigma "
      ],
      "metadata": {
        "id": "HOBalg4I15Mm"
      },
      "execution_count": null,
      "outputs": []
    },
    {
      "cell_type": "code",
      "source": [
        "for reaction in reac:\n",
        "    for reactant in reac[reaction].reactants:\n",
        "        if reactant in nuclides:\n",
        "            filter[reaction] = reaction"
      ],
      "metadata": {
        "id": "RqnBhhwE17i3"
      },
      "execution_count": null,
      "outputs": []
    },
    {
      "cell_type": "code",
      "source": [
        "for key in list(sig_dict.keys()):\n",
        "    if key not in filter:\n",
        "        del sig_dict[key]"
      ],
      "metadata": {
        "id": "ruriDZsw19KQ"
      },
      "execution_count": null,
      "outputs": []
    },
    {
      "cell_type": "code",
      "source": [
        "print('Cross Sections at T9 of ' + str(t9))\n",
        "\n",
        "for k,v in sorted(sig_dict.items()):\n",
        "    print(str(k)+': ' + str(v) + ' mb')"
      ],
      "metadata": {
        "id": "e9irPJhj1-lN",
        "outputId": "90df6416-d807-4908-f209-f9d39dddb2aa",
        "colab": {
          "base_uri": "https://localhost:8080/"
        }
      },
      "execution_count": null,
      "outputs": [
        {
          "output_type": "stream",
          "name": "stdout",
          "text": [
            "Cross Sections at T9 of 0.8\n",
            "n + tc100 -> tc101 + gamma: 682.9014105179624 mb\n",
            "n + tc101 -> tc102 + gamma: 171.89596373861357 mb\n",
            "n + tc102 -> tc103 + gamma: 475.5629597706425 mb\n",
            "n + tc103 -> tc104 + gamma: 140.10032671640542 mb\n",
            "n + tc104 -> tc105 + gamma: 553.9022965260385 mb\n",
            "n + tc105 -> tc106 + gamma: 71.99278573279153 mb\n",
            "n + tc106 -> tc107 + gamma: 345.7871529023834 mb\n",
            "n + tc107 -> tc108 + gamma: 78.9492252244812 mb\n",
            "n + tc108 -> tc109 + gamma: 415.79436172877763 mb\n",
            "n + tc109 -> tc110 + gamma: 88.38880231661076 mb\n",
            "n + tc110 -> tc111 + gamma: 204.12059193577988 mb\n",
            "n + tc111 -> tc112 + gamma: 44.428546227221574 mb\n",
            "n + tc112 -> tc113 + gamma: 86.27031833144166 mb\n",
            "n + tc113 -> tc114 + gamma: 12.364733418799595 mb\n",
            "n + tc114 -> tc115 + gamma: 58.222037821514775 mb\n",
            "n + tc115 -> tc116 + gamma: 8.335463053088931 mb\n",
            "n + tc116 -> tc117 + gamma: 27.256580083741504 mb\n",
            "n + tc117 -> tc118 + gamma: 5.409387545122122 mb\n",
            "n + tc118 -> tc119 + gamma: 26.356062128409278 mb\n",
            "n + tc119 -> tc120 + gamma: 2.945751485617705 mb\n",
            "n + tc120 -> tc121 + gamma: 7.204860954067247 mb\n",
            "n + tc121 -> tc122 + gamma: 0.9268332824842106 mb\n",
            "n + tc122 -> tc123 + gamma: 7.104873152163102 mb\n",
            "n + tc123 -> tc124 + gamma: 3.1777741622348925 mb\n",
            "n + tc124 -> tc125 + gamma: 0.7874544086267824 mb\n",
            "n + tc125 -> tc126 + gamma: 0.0002815761630800737 mb\n",
            "n + tc126 -> tc127 + gamma: 0.05276417129000774 mb\n",
            "n + tc127 -> tc128 + gamma: 3.3702481199212336e-06 mb\n",
            "n + tc128 -> tc129 + gamma: 0.0052767360291125845 mb\n",
            "n + tc129 -> tc130 + gamma: 1.6345748497391315e-12 mb\n",
            "n + tc130 -> tc131 + gamma: 0.003233942900947407 mb\n",
            "n + tc131 -> tc132 + gamma: 2.8344082909594877e-09 mb\n",
            "n + tc132 -> tc133 + gamma: 0.006324072922542658 mb\n",
            "n + tc133 -> tc134 + gamma: 2.9583893103606123e-06 mb\n",
            "n + tc134 -> tc135 + gamma: 0.008689258066757194 mb\n",
            "n + tc135 -> tc136 + gamma: 8.950267047437164e-09 mb\n",
            "n + tc136 -> tc137 + gamma: 0.001611303724861579 mb\n",
            "n + tc137 -> tc138 + gamma: 8.152704321186838e-10 mb\n",
            "n + tc138 -> tc139 + gamma: 0.0008990552109568661 mb\n",
            "n + tc139 -> tc140 + gamma: 2.299019475200169e-11 mb\n",
            "n + tc140 -> tc141 + gamma: 9.324375248057044e-05 mb\n",
            "n + tc141 -> tc142 + gamma: 2.551947483475001e-11 mb\n",
            "n + tc142 -> tc143 + gamma: 2.5245708139593543e-05 mb\n",
            "n + tc143 -> tc144 + gamma: 5.9745060334624994e-12 mb\n",
            "n + tc79 -> tc80 + gamma: 0.12080028862282725 mb\n",
            "n + tc80 -> tc81 + gamma: 0.4568108047501943 mb\n",
            "n + tc81 -> tc82 + gamma: 0.42876601807950426 mb\n",
            "n + tc82 -> tc83 + gamma: 0.6493676609582669 mb\n",
            "n + tc83 -> tc84 + gamma: 0.7664675053718415 mb\n",
            "n + tc84 -> tc85 + gamma: 4.224286184131753 mb\n",
            "n + tc85 -> tc86 + gamma: 0.18669193507907716 mb\n",
            "n + tc86 -> tc87 + gamma: 62.64718749670743 mb\n",
            "n + tc87 -> tc88 + gamma: 55.692541814384434 mb\n",
            "n + tc88 -> tc89 + gamma: 153.529536067167 mb\n",
            "n + tc89 -> tc90 + gamma: 365.0674412855325 mb\n",
            "n + tc90 -> tc91 + gamma: 373.4922989048014 mb\n",
            "n + tc91 -> tc92 + gamma: 560.0595754541848 mb\n",
            "n + tc92 -> tc93 + gamma: 767.2831028717695 mb\n",
            "n + tc93 -> tc94 + gamma: 476.5303746418805 mb\n",
            "n + tc94 -> tc95 + gamma: 712.0329714699053 mb\n",
            "n + tc95 -> tc96 + gamma: 558.4432123043091 mb\n",
            "n + tc96 -> tc97 + gamma: 678.4281316708717 mb\n",
            "n + tc97 -> tc98 + gamma: 513.2968528806298 mb\n",
            "n + tc98 -> tc99 + gamma: 834.8179885401009 mb\n",
            "n + tc99 -> tc100 + gamma: 456.8880825997581 mb\n"
          ]
        }
      ]
    }
  ]
}